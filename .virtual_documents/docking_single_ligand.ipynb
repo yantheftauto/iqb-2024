





# find the center of the ligand
import MDAnalysis as mda

original_structure = mda.Universe("protein_structures/2zq2.pdb")
ligand_mda = original_structure.select_atoms("resname 13U")

# Get the center of the ligand as the "pocket center"
pocket_center = ligand_mda.center_of_geometry() ## Fill in code for measuring the center of geometry of the ligand.
print(pocket_center)





# compute min and max coordinates of the ligand
# take the ligand box to be the difference between the max and min in each direction. Plus 5 Angstroms
ligand_box = ligand_mda.positions.max(axis=0) - ligand_mda.positions.min(axis=0) + 5  ## Fill in the rest of this expression.
ligand_box





# Convert np array to a list, just changing dtype
pocket_center = pocket_center.tolist()
ligand_box = ligand_box.tolist() ## convert ligand_box to list








# make a directory to store our results
import os

pdb_id = "2zq2"
ligand = "13U"

## Make a directory called "docking_results"
os.makedirs("docking_results", exist_ok=True)





from vina import Vina
v = Vina(sf_name="vina")





v.set_receptor(f"pdbqt/{pdb_id}.pdbqt")   # Set the receptor created earlier
v.set_ligand_from_file(f"pdbqt/{ligand}.pdbqt") ## Fill in the ligand name
v.compute_vina_maps(center=pocket_center, box_size=ligand_box) ## Fill in the ligand center and box size calculated previously.


# Step that does the actual docking
v.dock(exhaustiveness=5, n_poses=5)





# Note that it has the same name as the original ligand .pdbqt, can consider writing to new name such as "_out.pdbqt"
v.write_poses(f"docking_results/{ligand}.pdbqt", n_poses=5, overwrite=True)





## Fill in code to see the calculated energies for the poses.
# Produces a np array with energies correspond to ["total", "inter", "intra", "torsions", "intra best pose"]
v.energies()





import pandas as pd


# These are the columns for the types of energies according to AutoDock Vina docs.
column_names = ["total", "inter", "intra", "torsions", "intra best pose"]

df = pd.DataFrame(v.energies(), columns=column_names) ## Fill in arguments to the dataframe to create a dataframe with energies.
df.head()


# Save the calculated energies from docking to a CSV file
df.to_csv("docking_results/13U_energies.csv", index=False) ## Fill in file name.





! mk_export.py docking_results/13U.pdbqt -o docking_results/13U.sdf





import prolif as plf
import MDAnalysis as mda

pdb_id = "2zq2"   # Use structure with hydrogens to look at interactions just like Vina

protein = mda.Universe(f"protein_structures/protein_h.pdb")





protein_plf = plf.Molecule.from_mda(protein)
poses_plf = plf.sdf_supplier("docking_results/13U.sdf") # fill in filename here





fp = plf.Fingerprint(count=True)





# run on your poses, pass poses and protein as argument
fp.run_from_iterable(poses_plf, protein_plf) ## fill in this function





# Since there are 5 poses you can use others [0-4], index 0
pose_index=0


fp.plot_lignetwork(poses_plf[pose_index])


view = fp.plot_3d(
    poses_plf[pose_index], protein_plf, frame=pose_index, display_all=False
)
view





# make a directory to store our results
import os

pdb_id = "2zq2"
ligand_N = "13U_modified_N"

## Make a directory called "docking_results"
os.makedirs("docking_results", exist_ok=True)


from vina import Vina
v = Vina(sf_name="vina")


v.set_receptor(f"pdbqt/{pdb_id}.pdbqt")   # Set the receptor created earlier
v.set_ligand_from_file(f"pdbqt/{ligand_N}.pdbqt") ## Fill in the ligand name
v.compute_vina_maps(center=pocket_center, box_size=ligand_box) ## Fill in the ligand center and box size calculated previously.


# Step that does the actual docking
v.dock(exhaustiveness=8, n_poses=6)


# Note that it has the same name as the original ligand .pdbqt, can consider writing to new name such as "_out.pdbqt"
v.write_poses(f"docking_results/{ligand}.pdbqt", n_poses=5, overwrite=True)



