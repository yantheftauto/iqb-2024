





# find the center of the ligand
import MDAnalysis as mda

original_structure = mda.Universe("protein_structures/2zq2.pdb")
ligand_mda = original_structure.select_atoms("resname 13U")

# Get the center of the ligand as the "pocket center"
pocket_center = ligand_mda.center_of_geometry()
print(pocket_center)





# compute min and max coordinates of the ligand
# take the ligand box to be the difference between the max and min in each direction.
ligand_box = ligand_mda.positions.max(axis=0) - ligand_mda.positions.min(axis=0) + 5
ligand_box





pocket_center = pocket_center.tolist()
ligand_box = ligand_box.tolist()








# make a directory to store our results
import os

pdb_id = "2zq2"
ligand = "13U"

os.makedirs("docking_results", exist_ok=True)





from vina import Vina
v = Vina(sf_name="vina")





v.set_receptor(f"pdbqt/{pdb_id}.pdbqt")
v.set_ligand_from_file(f"pdbqt/{ligand}.pdbqt")
v.compute_vina_maps(center=pocket_center, box_size=ligand_box)
v.dock(exhaustiveness=5, n_poses=5)





v.write_poses(f"docking_results/{ligand}.pdbqt", n_poses=5, overwrite=True)





v.energies()





import pandas as pd


# These are the columns for the types of energies according to AutoDock Vina docs.
column_names = ["total", "inter", "intra", "torsions", "intra best pose"]

df = pd.DataFrame(v.energies(), columns=column_names)
df.head()


# Save the calculated energies from docking to a CSV file
df.to_csv("docking_results/13U_energies.csv", index=False)





! mk_export.py docking_results/13U.pdbqt -o docking_results/13U.sdf





import prolif as plf
import MDAnalysis as mda

pdb_id = "2zq2"

protein = mda.Universe(f"protein_structures/protein_h.pdb")





protein_plf = plf.Molecule.from_mda(protein)
poses_plf = plf.sdf_supplier("docking_results/13U.sdf")





fp = plf.Fingerprint(count=True)





# run on your poses
fp.run_from_iterable(poses_plf, protein_plf)





pose_index=1


fp.plot_lignetwork(poses_plf[pose_index])


view = fp.plot_3d(
    poses_plf[pose_index], protein_plf, frame=pose_index, display_all=False
)
view






