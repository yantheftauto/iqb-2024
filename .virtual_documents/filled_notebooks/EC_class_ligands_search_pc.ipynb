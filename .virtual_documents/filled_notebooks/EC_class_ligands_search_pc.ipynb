





# Import the components of rcsbsearchapi needed for this search
from rcsbsearchapi import rcsb_attributes as attrs





# There will be three components to the query, which will be labeled q1, q2 and q3.

ECnumber = "3.4.21.4"     # We will use this variable again later

q1 = attrs.rcsb_polymer_entity.rcsb_ec_lineage.id == ECnumber    # looking for trypsin structures with EC = 3.4.21.4
q2 = attrs.chem_comp.formula_weight >= 300                       # setting the lower limit for molecular weight
q3 = attrs.chem_comp.formula_weight <= 800                       # setting the upper limit for molecular weight

query = q1 & q2 & q3              # combining the three queries into one

resultL = list(query())           # assign the results of the query to a list variable

print(resultL[0:10])              # list the first 10 results

print("There are", len(resultL), "trypsin structures that contain ligands in the RCSB PDB.")





molResultL = list(query("mol_definition"))
print("There are",len(molResultL), "ligands for EC Number", ECnumber, "in this list. Here is a list of the first 10 ligands.")
molResultL[0:10]








import requests  # to enable us to pull files from the PDB
import os        # to enable us to create a directory to store the files


# Download one of the files from our list: 11U.mol2

res11U_mol2 = requests.get('https://files.rcsb.org/ligands/download/11U_ideal.mol2')


# check to see that the file downloaded properly. A status code of 200 means everything is okay.

res11U_mol2.status_code


# To really be sure, let's look at the file one line at a time. First we write the downloaded content to a file.

# make a ligands folder for our results
os.makedirs("ligands", exist_ok=True)

with open("ligands/res11U.mol2", "w+") as file:
    file.write(res11U_mol2.text)


# Now we use these commands to read the file and make sure it downloaded properly. As an alternative, we
# could go to the ligands folder in our Jupyter desktop and click on res11U.mol2 to make sure it looks correct.

file1 = open('ligands/res11U.mol2', 'r')
file_text = file1.read() # This reads in the file as a string.

print(file_text)





baseUrl = "https://files.rcsb.org/ligands/download/"

for ChemID in molResultL:
    cFile = f"{ChemID}_ideal.mol2"
    cFileUrl = baseUrl + cFile
    cFileLocal = "ligands/" + cFile
    response = requests.get(cFileUrl)
    with open(cFileLocal, "w+") as file:
        file.write(response.text)








### Solution

ECnumber = "1.1.1.1"     # We will use this variable again later

q1 = attrs.rcsb_polymer_entity.rcsb_ec_lineage.id == ECnumber  # looking for trypsins
q2 = attrs.chem_comp.formula_weight >= 400                      # setting the lower limit for molecular weight
q3 = attrs.chem_comp.formula_weight <= 700                     # setting the upper limit for molecular weight

query = q1 & q2 & q3              # combining the three queries into one

ResultL = list(query("entry"))
molResultL = list(query("mol_definition"))
print("There are",len(ResultL), "structures from EC Number", ECnumber, "that have bound ligands with molecular weights between 400 and 700).")
print("There are",len(molResultL), "unique ligands for structures with EC Number", ECnumber, "in this list. Here is a list of the", len(molResultL), "ligands.")
molResultL



